{
 "cells": [
  {
   "cell_type": "markdown",
   "id": "acc137fd",
   "metadata": {},
   "source": [
    "<h1 align=center style=\"line-height:200%;font-family:vazir;color:#0099cc\">\n",
    "<font face=\"vazir\" color=\"#0099cc\">\n",
    "k-nearest neighbors algorithm on iris_flowers Data\n",
    "</font>\n",
    "</h1>"
   ]
  },
  {
   "cell_type": "markdown",
   "id": "267e3517",
   "metadata": {},
   "source": [
    "<h2  style=\"line-height:200%;font-family:vazir;color:#0099cc\">\n",
    "<font face=\"vazir\" color=\"#0099cc\">\n",
    "LOAD DATA\n",
    "</font>\n",
    "</h2>"
   ]
  },
  {
   "cell_type": "code",
   "execution_count": null,
   "id": "cece44e9",
   "metadata": {},
   "outputs": [
    {
     "data": {
      "text/plain": [
       "(120,)"
      ]
     },
     "execution_count": 549,
     "metadata": {},
     "output_type": "execute_result"
    }
   ],
   "source": [
    "import numpy as np\n",
    "irises = np.load('irises.npy')\n",
    "types = np.load('types.npy')\n",
    "new_irises = np.load('new_irises.npy')\n",
    "n, m = len(irises), len(new_irises)\n",
    "new_irises"
   ]
  },
  {
   "cell_type": "markdown",
   "id": "67d7529f",
   "metadata": {},
   "source": [
    "<h2 style=\"line-height:200%;font-family:vazir;color:#0099cc\">\n",
    "<font face=\"vazir\" color=\"#0099cc\">\n",
    "Calculate distances\n",
    "</font>\n",
    "</h2>"
   ]
  },
  {
   "cell_type": "code",
   "execution_count": null,
   "id": "39b745a5",
   "metadata": {},
   "outputs": [
    {
     "name": "stdout",
     "output_type": "stream",
     "text": [
      "[[2.000e-02 3.700e-01 2.600e-01 ... 1.875e+01 2.029e+01 2.189e+01]\n",
      " [2.200e-01 3.000e-02 1.000e-01 ... 1.781e+01 1.987e+01 2.183e+01]\n",
      " [7.800e-01 1.850e+00 1.860e+00 ... 1.983e+01 2.073e+01 2.257e+01]\n",
      " ...\n",
      " [2.301e+01 2.362e+01 2.527e+01 ... 9.200e-01 2.200e-01 6.200e-01]\n",
      " [2.638e+01 2.711e+01 2.866e+01 ... 1.650e+00 6.300e-01 3.900e-01]\n",
      " [1.714e+01 1.725e+01 1.848e+01 ... 4.300e-01 4.100e-01 5.900e-01]]\n"
     ]
    }
   ],
   "source": [
    "import numpy as np\n",
    "def calc_two_loops(new_points, points):\n",
    "    m, n = len(new_points),len(points)\n",
    "    d = np.zeros((m, n))\n",
    "    for i in range(m):\n",
    "        for j in range(n):\n",
    "            d[i,j]=sum(np.square(points[j]-new_points[i]))\n",
    "    return d \n",
    "\n",
    "d2 = calc_two_loops(new_irises, irises)\n",
    "print(d2)\n"
   ]
  },
  {
   "cell_type": "code",
   "execution_count": null,
   "id": "021a9f1c",
   "metadata": {},
   "outputs": [
    {
     "name": "stdout",
     "output_type": "stream",
     "text": [
      "[[2.000e-02 3.700e-01 2.600e-01 ... 1.875e+01 2.029e+01 2.189e+01]\n",
      " [2.200e-01 3.000e-02 1.000e-01 ... 1.781e+01 1.987e+01 2.183e+01]\n",
      " [7.800e-01 1.850e+00 1.860e+00 ... 1.983e+01 2.073e+01 2.257e+01]\n",
      " ...\n",
      " [2.301e+01 2.362e+01 2.527e+01 ... 9.200e-01 2.200e-01 6.200e-01]\n",
      " [2.638e+01 2.711e+01 2.866e+01 ... 1.650e+00 6.300e-01 3.900e-01]\n",
      " [1.714e+01 1.725e+01 1.848e+01 ... 4.300e-01 4.100e-01 5.900e-01]]\n"
     ]
    }
   ],
   "source": [
    "import numpy as np\n",
    "def calc_one_loop(new_points, points):\n",
    "    m, n = len(new_points), len(points)\n",
    "    d = np.zeros((m, n))\n",
    "    for i in range(m):\n",
    "        x = np.square(new_points[i]-points)\n",
    "        d[i] = x.sum(axis=1)\n",
    "    return d\n",
    "d2 = calc_one_loop(new_irises, irises)\n",
    "print(d2)\n"
   ]
  },
  {
   "cell_type": "code",
   "execution_count": null,
   "id": "f3e881e6",
   "metadata": {},
   "outputs": [
    {
     "name": "stdout",
     "output_type": "stream",
     "text": [
      "[[2.000e-02 3.700e-01 2.600e-01 ... 1.875e+01 2.029e+01 2.189e+01]\n",
      " [2.200e-01 3.000e-02 1.000e-01 ... 1.781e+01 1.987e+01 2.183e+01]\n",
      " [7.800e-01 1.850e+00 1.860e+00 ... 1.983e+01 2.073e+01 2.257e+01]\n",
      " ...\n",
      " [2.301e+01 2.362e+01 2.527e+01 ... 9.200e-01 2.200e-01 6.200e-01]\n",
      " [2.638e+01 2.711e+01 2.866e+01 ... 1.650e+00 6.300e-01 3.900e-01]\n",
      " [1.714e+01 1.725e+01 1.848e+01 ... 4.300e-01 4.100e-01 5.900e-01]]\n"
     ]
    }
   ],
   "source": [
    "import numpy as np\n",
    "def calc_no_loop(new_points, points):\n",
    "    return np.sum(np.square(new_points[:, np.newaxis, :] - points[np.newaxis, :, :]), axis=2)\n",
    "\n",
    "d2 = calc_no_loop(new_irises, irises)\n",
    "print(d2)\n"
   ]
  },
  {
   "cell_type": "markdown",
   "id": "726d2ca6",
   "metadata": {},
   "source": [
    "<p \n",
    "<font face=\"vazir\" size=3>\n",
    "All outputs are same   \n",
    "</font>\n",
    "</p>"
   ]
  },
  {
   "cell_type": "code",
   "execution_count": null,
   "id": "6b3eda6e",
   "metadata": {},
   "outputs": [
    {
     "name": "stdout",
     "output_type": "stream",
     "text": [
      "Fine!\n"
     ]
    }
   ],
   "source": [
    "d2 = calc_two_loops(new_irises, irises)\n",
    "d1 = calc_one_loop(new_irises, irises)\n",
    "d = calc_no_loop(new_irises, irises)\n",
    "if np.allclose(d2, d1, d, 1e-5):\n",
    "    print('Fine!')\n",
    "else:\n",
    "    print('There is something wrong!')\n"
   ]
  },
  {
   "cell_type": "markdown",
   "id": "f1a35b10",
   "metadata": {},
   "source": [
    "<h2  style=\"line-height:200%;font-family:vazir;color:#0099cc\">\n",
    "<font face=\"vazir\" color=\"#0099cc\">\n",
    "Find k-nearest neighbors\n",
    "</font>\n",
    "</h2>"
   ]
  },
  {
   "cell_type": "code",
   "execution_count": null,
   "id": "e0423a6e",
   "metadata": {},
   "outputs": [
    {
     "data": {
      "text/plain": [
       "array([[  6.,  14.,   0.,  32.,  22.,  17.,  39.,  21.,  23.,  37.],\n",
       "       [ 10.,   1.,  30.,  24.,  20.,   2.,  36.,   3.,   6.,  28.],\n",
       "       [ 27.,  13.,   8.,  39.,   4.,  29.,  15.,  12.,  26.,  25.],\n",
       "       [ 14.,  17.,   0.,  39.,  37.,  22.,   8.,  32.,  26.,  13.],\n",
       "       [ 21.,  20.,  30.,   3.,   9.,  24.,   6.,  19.,  35.,   5.],\n",
       "       [ 10.,   1.,   2.,   3.,  38.,   5.,  36.,  30.,  24.,   9.],\n",
       "       [ 10.,   1.,  30.,  24.,  20.,   2.,  36.,   3.,   6.,  28.],\n",
       "       [  0.,   6.,  22.,  23.,  21.,  14.,   9.,  32.,  17.,  39.],\n",
       "       [ 39.,  35.,  17.,  22.,   4.,  21.,  37.,  19.,   8.,  16.],\n",
       "       [ 28.,   6.,  23.,   0.,  14.,  21.,  30.,  32.,  22.,   9.],\n",
       "       [ 47.,  73.,  69.,  61.,  52.,  51.,  41.,  60., 101.,  58.],\n",
       "       [ 71.,  43.,  65.,  64.,  77.,  72.,  66.,  76.,  74.,  54.],\n",
       "       [ 71.,  65.,  74.,  64.,  66.,  77.,  76.,  54.,  57.,  49.],\n",
       "       [ 64.,  65.,  74.,  66.,  43.,  50.,  54.,  72.,  77.,  71.],\n",
       "       [ 78.,  60.,  47.,  41.,  73.,  52.,  63.,  57.,  51.,  59.],\n",
       "       [ 74.,  65.,  54.,  64.,  66.,  43.,  50.,  57.,  71.,  75.],\n",
       "       [ 77.,  71.,  44.,  53.,  72.,  76.,  49.,  97.,  56.,  63.],\n",
       "       [ 72.,  66.,  64.,  74.,  43.,  65.,  77.,  54.,  71.,  76.],\n",
       "       [ 77.,  74.,  44.,  72.,  71.,  76.,  54.,  66.,  43.,  53.],\n",
       "       [ 66.,  54.,  71.,  76.,  77.,  74.,  49.,  57.,  44.,  72.],\n",
       "       [ 90., 103., 106.,  96., 112., 115.,  93., 110.,  83.,  80.],\n",
       "       [ 82.,  96., 100., 108.,  94., 115., 112., 105.,  80.,  84.],\n",
       "       [111.,  92.,  97., 117.,  81., 114., 102.,  91., 101.,  56.],\n",
       "       [107.,  67.,  81., 117.,  58., 114.,  91.,  99.,  55.,  70.],\n",
       "       [110.,  82.,  90.,  92.,  96., 115.,  93., 109., 112., 103.],\n",
       "       [100., 104.,  82.,  86.,  96.,  93.,  90.,  87., 115., 110.],\n",
       "       [107.,  83.,  87.,  89.,  67.,  93.,  58., 110.,  81., 114.],\n",
       "       [113.,  90., 118., 112., 116.,  96.,  93.,  82.,  88.,  92.],\n",
       "       [115.,  96., 112., 109.,  80.,  90.,  92., 116., 119., 106.],\n",
       "       [114., 102., 111.,  81.,  97.,  67.,  56., 107.,  99., 101.]])"
      ]
     },
     "execution_count": 554,
     "metadata": {},
     "output_type": "execute_result"
    }
   ],
   "source": [
    "k = 10\n",
    "k_nearest = np.zeros((m, k))\n",
    "j = 0\n",
    "for i in np.argpartition(d,k, axis = 1):\n",
    "    k_nearest[j]=i[:10]\n",
    "    j+=1\n",
    "k_nearest"
   ]
  },
  {
   "cell_type": "markdown",
   "id": "32ded472",
   "metadata": {},
   "source": [
    "<h2  style=\"line-height:200%;font-family:vazir;color:#0099cc\">\n",
    "<font face=\"vazir\" color=\"#0099cc\">\n",
    "Find type of k-nearest neighbors\n",
    "</font>\n",
    "</h2>"
   ]
  },
  {
   "cell_type": "code",
   "execution_count": null,
   "id": "22edbad2",
   "metadata": {},
   "outputs": [],
   "source": [
    "x = np.argpartition(d,k, axis = 1)\n",
    "k_nearest_types = np.zeros((m, k))\n",
    "for i in range(len(x)):\n",
    "    a = x[i][:10]\n",
    "    for j in range(len(a)):\n",
    "        k_nearest_types[i][j] = types[a[j]]"
   ]
  },
  {
   "cell_type": "markdown",
   "id": "7ddb2cdb",
   "metadata": {},
   "source": [
    "<h2  style=\"line-height:200%;font-family:vazir;color:#0099cc\">\n",
    "<font face=\"vazir\" color=\"#0099cc\">\n",
    "Find type of flowers\n",
    "</font>\n",
    "</h2>"
   ]
  },
  {
   "cell_type": "code",
   "execution_count": null,
   "id": "63421504",
   "metadata": {},
   "outputs": [],
   "source": [
    "from scipy import stats"
   ]
  },
  {
   "cell_type": "code",
   "execution_count": null,
   "id": "56f71418",
   "metadata": {},
   "outputs": [
    {
     "data": {
      "text/plain": [
       "array([0., 0., 0., 0., 0., 0., 0., 0., 0., 0., 1., 1., 1., 1., 1., 1., 1.,\n",
       "       1., 1., 1., 2., 2., 2., 2., 2., 2., 2., 2., 2., 2.])"
      ]
     },
     "execution_count": 557,
     "metadata": {},
     "output_type": "execute_result"
    }
   ],
   "source": [
    "predicted_types = stats.mode(k_nearest_types, axis=1).mode.reshape(m)\n",
    "# predicted_types = [0, 0, 0, 0, 0, 0, 0, 0, 0, 0, 1, 1, 1, 1, 1, 1, 1, 1, 1, 1, 2, 2, 2, 2, 2, 2, 2, 2, 2, 2]\n",
    "predicted_types"
   ]
  },
  {
   "cell_type": "code",
   "execution_count": null,
   "id": "6c855388",
   "metadata": {},
   "outputs": [
    {
     "name": "stdout",
     "output_type": "stream",
     "text": [
      "Accuracy: 1.0\n"
     ]
    }
   ],
   "source": [
    "new_types = np.load('new_types.npy')\n",
    "s = 0\n",
    "for i in range(m):\n",
    "    if new_types[i]==predicted_types[i]:\n",
    "        s+=1\n",
    "accuracy = s/m\n",
    "print('Accuracy:', accuracy)"
   ]
  }
 ],
 "metadata": {
  "kernelspec": {
   "display_name": "Python 3.9.6 64-bit",
   "language": "python",
   "name": "python3"
  },
  "language_info": {
   "codemirror_mode": {
    "name": "ipython",
    "version": 3
   },
   "file_extension": ".py",
   "mimetype": "text/x-python",
   "name": "python",
   "nbconvert_exporter": "python",
   "pygments_lexer": "ipython3",
   "version": "3.9.6"
  },
  "vscode": {
   "interpreter": {
    "hash": "fc92dbe50645c2a0f0815161adfa607b251e3baf7875355af39ab3336211cbff"
   }
  }
 },
 "nbformat": 4,
 "nbformat_minor": 5
}
